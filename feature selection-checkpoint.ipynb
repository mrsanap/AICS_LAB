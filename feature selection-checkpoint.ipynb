{
 "cells": [
  {
   "cell_type": "code",
   "execution_count": 2,
   "id": "7c11f1d1",
   "metadata": {},
   "outputs": [],
   "source": [
    "import pandas as pd\n"
   ]
  },
  {
   "cell_type": "code",
   "execution_count": 4,
   "id": "35354452",
   "metadata": {},
   "outputs": [],
   "source": [
    "data={'candy variety':['chocolate hearts','sour jelly','candy canes','sour jelly','fruit drops'],\n",
    "\t'Date and Time':['09-02-2020 14:05','24-10-2020 18:00','18-12-2020 20:13','25-10-2020 10:00','18-10-2020 15:46'],\n",
    "\t'Day':['sunday','saturday','friday','sunday','sunday'],\n",
    "\t'Length':[3,3.5,3.5,3.5,3],\n",
    "\t'Breadth':[2,2,2.5,2,3],\n",
    "\t'Price':[7.5,7.6,8,7.6,9]}"
   ]
  },
  {
   "cell_type": "code",
   "execution_count": 6,
   "id": "defebf9c",
   "metadata": {},
   "outputs": [
    {
     "name": "stdout",
     "output_type": "stream",
     "text": [
      "      candy variety       Date and Time       Day  Length  Breadth  Price\n",
      "0  chocolate hearts 2020-02-09 14:05:00    sunday     3.0      2.0    7.5\n",
      "1        sour jelly 2020-10-24 18:00:00  saturday     3.5      2.0    7.6\n",
      "2       candy canes 2020-12-18 20:13:00    friday     3.5      2.5    8.0\n",
      "3        sour jelly 2020-10-25 10:00:00    sunday     3.5      2.0    7.6\n",
      "4       fruit drops 2020-10-18 15:46:00    sunday     3.0      3.0    9.0\n"
     ]
    }
   ],
   "source": [
    "df=pd.DataFrame(data)\n",
    "df['Date and Time']=pd.to_datetime(df['Date and Time'],format=\"%d-%m-%Y %H:%M\")\n",
    "print(df)"
   ]
  },
  {
   "cell_type": "code",
   "execution_count": 8,
   "id": "7e4b1a5d",
   "metadata": {},
   "outputs": [
    {
     "name": "stdout",
     "output_type": "stream",
     "text": [
      "      candy variety        Date\n",
      "0  chocolate hearts  2020-02-09\n",
      "1        sour jelly  2020-10-24\n",
      "2       candy canes  2020-12-18\n",
      "3        sour jelly  2020-10-25\n",
      "4       fruit drops  2020-10-18\n"
     ]
    }
   ],
   "source": [
    "\"\"\"# creating new feature Date from existing feature Date and Time #\"\"\"\n",
    "df['Date']=df['Date and Time'].dt.date\n",
    "print(df[['candy variety','Date']])"
   ]
  },
  {
   "cell_type": "code",
   "execution_count": 10,
   "id": "89fdfe5b",
   "metadata": {},
   "outputs": [
    {
     "name": "stdout",
     "output_type": "stream",
     "text": [
      "      candy variety        Date  weekend\n",
      "0  chocolate hearts  2020-02-09        1\n",
      "1        sour jelly  2020-10-24        1\n",
      "2       candy canes  2020-12-18        0\n",
      "3        sour jelly  2020-10-25        1\n",
      "4       fruit drops  2020-10-18        1\n"
     ]
    }
   ],
   "source": [
    "'# creating weekend from days #'\n",
    "import numpy as np\n",
    "df['weekend']=np.where(df['Day'].isin(['saturday','sunday']),1,0)\n",
    "print(df[['candy variety','Date','weekend']])"
   ]
  },
  {
   "cell_type": "code",
   "execution_count": 12,
   "id": "550687c4",
   "metadata": {},
   "outputs": [
    {
     "name": "stdout",
     "output_type": "stream",
     "text": [
      "      candy variety        Date and Time       Day  Length  Breadth  Price\n",
      "0  chocolate hearts  2020-02-09 14:05:00    sunday     3.0      2.0    7.5\n",
      "1        sour jelly  2020-10-24 18:00:00  saturday     3.5      2.0    7.6\n",
      "2       candy canes  2020-12-18 20:13:00    friday     3.5      2.5    8.0\n",
      "3        sour jelly  2020-10-25 10:00:00    sunday     3.5      2.0    7.6\n",
      "4       fruit drops  2020-10-18 15:46:00    sunday     3.0      3.0    9.0\n",
      "5               NaN     22-10-2020 17:24  thursday     3.5      2.0    NaN\n"
     ]
    }
   ],
   "source": [
    "'# Appending row with missing values #'\n",
    "df=pd.DataFrame(data)\n",
    "df['Date and Time']=pd.to_datetime(df['Date and Time'],format=\"%d-%m-%Y %H:%M\")\n",
    "df.loc[len(df.index)]=[np.NaN,'22-10-2020 17:24','thursday',3.5,2,np.NaN]\n",
    "print(df)"
   ]
  },
  {
   "cell_type": "code",
   "execution_count": 14,
   "id": "8db27fa5",
   "metadata": {},
   "outputs": [
    {
     "name": "stdout",
     "output_type": "stream",
     "text": [
      "      candy variety        Date and Time       Day  Length  Breadth  Price\n",
      "0  chocolate hearts  2020-02-09 14:05:00    sunday     3.0      2.0   7.50\n",
      "1        sour jelly  2020-10-24 18:00:00  saturday     3.5      2.0   7.60\n",
      "2       candy canes  2020-12-18 20:13:00    friday     3.5      2.5   8.00\n",
      "3        sour jelly  2020-10-25 10:00:00    sunday     3.5      2.0   7.60\n",
      "4       fruit drops  2020-10-18 15:46:00    sunday     3.0      3.0   9.00\n",
      "5        sour jelly     22-10-2020 17:24  thursday     3.5      2.0   7.94\n"
     ]
    }
   ],
   "source": [
    "'# Imputation #'\n",
    "df['candy variety']=df['candy variety'].fillna(df['candy variety'].mode()[0])\n",
    "df['Price']=df['Price'].fillna(df['Price'].mean())\n",
    "print(df)"
   ]
  },
  {
   "cell_type": "code",
   "execution_count": 16,
   "id": "69075c23",
   "metadata": {},
   "outputs": [
    {
     "name": "stdout",
     "output_type": "stream",
     "text": [
      "      candy variety        Date and Time       Day  Length  Breadth  Price  \\\n",
      "0  chocolate hearts  2020-02-09 14:05:00    sunday     3.0      2.0   7.50   \n",
      "1        sour jelly  2020-10-24 18:00:00  saturday     3.5      2.0   7.60   \n",
      "2       candy canes  2020-12-18 20:13:00    friday     3.5      2.5   8.00   \n",
      "3        sour jelly  2020-10-25 10:00:00    sunday     3.5      2.0   7.60   \n",
      "4       fruit drops  2020-10-18 15:46:00    sunday     3.0      3.0   9.00   \n",
      "5        sour jelly     22-10-2020 17:24  thursday     3.5      2.0   7.94   \n",
      "\n",
      "  Type of Day  \n",
      "0     weekend  \n",
      "1     weekend  \n",
      "2     weekday  \n",
      "3     weekend  \n",
      "4     weekend  \n",
      "5     weekday  \n"
     ]
    }
   ],
   "source": [
    "'# Discretization #'\n",
    "df['Type of Day']=np.where(df['Day'].isin(['saturday','sunday']),'weekend','weekday')\n",
    "df[['candy variety','Day','Type of Day']]\n",
    "print(df)"
   ]
  },
  {
   "cell_type": "code",
   "execution_count": 18,
   "id": "f37c71df",
   "metadata": {},
   "outputs": [
    {
     "name": "stdout",
     "output_type": "stream",
     "text": [
      "      candy variety       Day Type of Day  weekend  weekday\n",
      "0  chocolate hearts    sunday     weekend        1        0\n",
      "1        sour jelly  saturday     weekend        1        0\n",
      "2       candy canes    friday     weekday        0        1\n",
      "3        sour jelly    sunday     weekend        1        0\n",
      "4       fruit drops    sunday     weekend        1        0\n",
      "5        sour jelly  thursday     weekday        0        1\n"
     ]
    }
   ],
   "source": [
    "'# Categorical Encoding #'\n",
    "for x in df['Type of Day'].unique():df[x]=np.where(df['Type of Day']==x,1,0)\n",
    "print(df[['candy variety','Day','Type of Day','weekend','weekday']])"
   ]
  },
  {
   "cell_type": "code",
   "execution_count": 20,
   "id": "785abedb",
   "metadata": {},
   "outputs": [
    {
     "name": "stdout",
     "output_type": "stream",
     "text": [
      "      candy variety        Date\n",
      "0  chocolate hearts  2020-02-09\n",
      "1        sour jelly  2020-10-24\n",
      "2       candy canes  2020-12-18\n",
      "3        sour jelly  2020-10-25\n",
      "4       fruit drops  2020-10-18\n",
      "5        sour jelly  2020-10-22\n"
     ]
    }
   ],
   "source": [
    "'# Feature Splitting #'\n",
    "df['Date and Time']=pd.to_datetime(df['Date and Time'])\n",
    "df['Date']=df['Date and Time'].dt.date\n",
    "print(df[['candy variety','Date']])"
   ]
  },
  {
   "cell_type": "code",
   "execution_count": null,
   "id": "fc2179c2",
   "metadata": {},
   "outputs": [],
   "source": []
  }
 ],
 "metadata": {
  "kernelspec": {
   "display_name": "Python 3 (ipykernel)",
   "language": "python",
   "name": "python3"
  },
  "language_info": {
   "codemirror_mode": {
    "name": "ipython",
    "version": 3
   },
   "file_extension": ".py",
   "mimetype": "text/x-python",
   "name": "python",
   "nbconvert_exporter": "python",
   "pygments_lexer": "ipython3",
   "version": "3.9.13"
  }
 },
 "nbformat": 4,
 "nbformat_minor": 5
}
