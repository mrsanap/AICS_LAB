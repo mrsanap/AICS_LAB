{
  "nbformat": 4,
  "nbformat_minor": 0,
  "metadata": {
    "colab": {
      "provenance": [],
      "authorship_tag": "ABX9TyOAgI4FXbb2l52p+TUL+oOp",
      "include_colab_link": true
    },
    "kernelspec": {
      "name": "python3",
      "display_name": "Python 3"
    },
    "language_info": {
      "name": "python"
    }
  },
  "cells": [
    {
      "cell_type": "markdown",
      "metadata": {
        "id": "view-in-github",
        "colab_type": "text"
      },
      "source": [
        "<a href=\"https://colab.research.google.com/github/mrsanap/AICS_LAB/blob/main/Untitled1.ipynb\" target=\"_parent\"><img src=\"https://colab.research.google.com/assets/colab-badge.svg\" alt=\"Open In Colab\"/></a>"
      ]
    },
    {
      "cell_type": "code",
      "execution_count": 1,
      "metadata": {
        "id": "jhd0FUG7Q1xN"
      },
      "outputs": [],
      "source": [
        "import pandas as pd\n"
      ]
    },
    {
      "cell_type": "code",
      "source": [
        "data={'candy variety':['chocolate hearts','sour jelly','candy canes','sour jelly','fruit drops'],\n",
        "\t'Date and Time':['09-02-2020 14:05','24-10-2020 18:00','18-12-2020 20:13','25-10-2020 10:00','18-10-2020 15:46'],\n",
        "\t'Day':['sunday','saturday','friday','sunday','sunday'],\n",
        "\t'Length':[3,3.5,3.5,3.5,3],\n",
        "\t'Breadth':[2,2,2.5,2,3],\n",
        "\t'Price':[7.5,7.6,8,7.6,9]}"
      ],
      "metadata": {
        "id": "OUiBfNfEQ6-f"
      },
      "execution_count": 3,
      "outputs": []
    },
    {
      "cell_type": "code",
      "source": [
        "df=pd.DataFrame(data)\n",
        "df['Date and Time']=pd.to_datetime(df['Date and Time'],format=\"%d-%m-%Y %H:%M\")\n",
        "print(df)"
      ],
      "metadata": {
        "colab": {
          "base_uri": "https://localhost:8080/"
        },
        "id": "bgpRr5jORHnk",
        "outputId": "3de98ff4-b0c8-4e07-936f-1d4a9a9dea18"
      },
      "execution_count": 5,
      "outputs": [
        {
          "output_type": "stream",
          "name": "stdout",
          "text": [
            "      candy variety       Date and Time       Day  Length  Breadth  Price\n",
            "0  chocolate hearts 2020-02-09 14:05:00    sunday     3.0      2.0    7.5\n",
            "1        sour jelly 2020-10-24 18:00:00  saturday     3.5      2.0    7.6\n",
            "2       candy canes 2020-12-18 20:13:00    friday     3.5      2.5    8.0\n",
            "3        sour jelly 2020-10-25 10:00:00    sunday     3.5      2.0    7.6\n",
            "4       fruit drops 2020-10-18 15:46:00    sunday     3.0      3.0    9.0\n"
          ]
        }
      ]
    },
    {
      "cell_type": "code",
      "source": [
        "\"\"\"# creating new feature Date from existing feature Date and Time #\"\"\"\n",
        "df['Date']=df['Date and Time'].dt.date\n",
        "print(df[['candy variety','Date']])"
      ],
      "metadata": {
        "colab": {
          "base_uri": "https://localhost:8080/"
        },
        "id": "ua7reUFDRLcj",
        "outputId": "4b1949dc-4fed-4e72-e14b-6790d57ecbda"
      },
      "execution_count": 9,
      "outputs": [
        {
          "output_type": "stream",
          "name": "stdout",
          "text": [
            "      candy variety        Date\n",
            "0  chocolate hearts  2020-02-09\n",
            "1        sour jelly  2020-10-24\n",
            "2       candy canes  2020-12-18\n",
            "3        sour jelly  2020-10-25\n",
            "4       fruit drops  2020-10-18\n"
          ]
        }
      ]
    },
    {
      "cell_type": "code",
      "source": [
        "'# creating weekend from days #'\n",
        "import numpy as np\n",
        "df['weekend']=np.where(df['Day'].isin(['saturday','sunday']),1,0)\n",
        "print(df[['candy variety','Date','weekend']])"
      ],
      "metadata": {
        "colab": {
          "base_uri": "https://localhost:8080/"
        },
        "id": "7NDA6VyyRf1p",
        "outputId": "3645797a-7c88-4879-b668-b5ccaf28625e"
      },
      "execution_count": 12,
      "outputs": [
        {
          "output_type": "stream",
          "name": "stdout",
          "text": [
            "      candy variety        Date  weekend\n",
            "0  chocolate hearts  2020-02-09        1\n",
            "1        sour jelly  2020-10-24        1\n",
            "2       candy canes  2020-12-18        0\n",
            "3        sour jelly  2020-10-25        1\n",
            "4       fruit drops  2020-10-18        1\n"
          ]
        }
      ]
    },
    {
      "cell_type": "code",
      "source": [
        "'# Appending row with missing values #'\n",
        "df=pd.DataFrame(data)\n",
        "df['Date and Time']=pd.to_datetime(df['Date and Time'],format=\"%d-%m-%Y %H:%M\")\n",
        "df.loc[len(df.index)]=[np.NaN,'22-10-2020 17:24','thursday',3.5,2,np.NaN]\n",
        "print(df)"
      ],
      "metadata": {
        "colab": {
          "base_uri": "https://localhost:8080/"
        },
        "id": "MYfnLj2NRrvR",
        "outputId": "e048a278-9603-485b-99ee-be56d7ac73e9"
      },
      "execution_count": 14,
      "outputs": [
        {
          "output_type": "stream",
          "name": "stdout",
          "text": [
            "      candy variety        Date and Time       Day  Length  Breadth  Price\n",
            "0  chocolate hearts  2020-02-09 14:05:00    sunday     3.0      2.0    7.5\n",
            "1        sour jelly  2020-10-24 18:00:00  saturday     3.5      2.0    7.6\n",
            "2       candy canes  2020-12-18 20:13:00    friday     3.5      2.5    8.0\n",
            "3        sour jelly  2020-10-25 10:00:00    sunday     3.5      2.0    7.6\n",
            "4       fruit drops  2020-10-18 15:46:00    sunday     3.0      3.0    9.0\n",
            "5               NaN     22-10-2020 17:24  thursday     3.5      2.0    NaN\n"
          ]
        }
      ]
    },
    {
      "cell_type": "code",
      "source": [
        "'# Imputation #'\n",
        "df['candy variety']=df['candy variety'].fillna(df['candy variety'].mode()[0])\n",
        "df['Price']=df['Price'].fillna(df['Price'].mean())\n",
        "print(df)"
      ],
      "metadata": {
        "colab": {
          "base_uri": "https://localhost:8080/"
        },
        "id": "Tamr7U9jR_Uz",
        "outputId": "8f0577f6-65c8-41fc-8ec9-f296d29eba68"
      },
      "execution_count": 16,
      "outputs": [
        {
          "output_type": "stream",
          "name": "stdout",
          "text": [
            "      candy variety        Date and Time       Day  Length  Breadth  Price\n",
            "0  chocolate hearts  2020-02-09 14:05:00    sunday     3.0      2.0   7.50\n",
            "1        sour jelly  2020-10-24 18:00:00  saturday     3.5      2.0   7.60\n",
            "2       candy canes  2020-12-18 20:13:00    friday     3.5      2.5   8.00\n",
            "3        sour jelly  2020-10-25 10:00:00    sunday     3.5      2.0   7.60\n",
            "4       fruit drops  2020-10-18 15:46:00    sunday     3.0      3.0   9.00\n",
            "5        sour jelly     22-10-2020 17:24  thursday     3.5      2.0   7.94\n"
          ]
        }
      ]
    },
    {
      "cell_type": "code",
      "source": [
        "'# Discretization #'\n",
        "df['Type of Day']=np.where(df['Day'].isin(['saturday','sunday']),'weekend','weekday')\n",
        "df[['candy variety','Day','Type of Day']]\n",
        "print(df)"
      ],
      "metadata": {
        "colab": {
          "base_uri": "https://localhost:8080/"
        },
        "id": "3moZcR4eSG4G",
        "outputId": "82554e50-1458-45f2-c722-c7ee36077672"
      },
      "execution_count": 18,
      "outputs": [
        {
          "output_type": "stream",
          "name": "stdout",
          "text": [
            "      candy variety        Date and Time       Day  Length  Breadth  Price  \\\n",
            "0  chocolate hearts  2020-02-09 14:05:00    sunday     3.0      2.0   7.50   \n",
            "1        sour jelly  2020-10-24 18:00:00  saturday     3.5      2.0   7.60   \n",
            "2       candy canes  2020-12-18 20:13:00    friday     3.5      2.5   8.00   \n",
            "3        sour jelly  2020-10-25 10:00:00    sunday     3.5      2.0   7.60   \n",
            "4       fruit drops  2020-10-18 15:46:00    sunday     3.0      3.0   9.00   \n",
            "5        sour jelly     22-10-2020 17:24  thursday     3.5      2.0   7.94   \n",
            "\n",
            "  Type of Day  \n",
            "0     weekend  \n",
            "1     weekend  \n",
            "2     weekday  \n",
            "3     weekend  \n",
            "4     weekend  \n",
            "5     weekday  \n"
          ]
        }
      ]
    },
    {
      "cell_type": "code",
      "source": [
        "'# Categorical Encoding #'\n",
        "for x in df['Type of Day'].unique():df[x]=np.where(df['Type of Day']==x,1,0)\n",
        "print(df[['candy variety','Day','Type of Day','weekend','weekday']])"
      ],
      "metadata": {
        "colab": {
          "base_uri": "https://localhost:8080/"
        },
        "id": "QNuiGzP6SNyo",
        "outputId": "8b2e8126-30a9-497a-d340-6aa49bd86f7f"
      },
      "execution_count": 20,
      "outputs": [
        {
          "output_type": "stream",
          "name": "stdout",
          "text": [
            "      candy variety       Day Type of Day  weekend  weekday\n",
            "0  chocolate hearts    sunday     weekend        1        0\n",
            "1        sour jelly  saturday     weekend        1        0\n",
            "2       candy canes    friday     weekday        0        1\n",
            "3        sour jelly    sunday     weekend        1        0\n",
            "4       fruit drops    sunday     weekend        1        0\n",
            "5        sour jelly  thursday     weekday        0        1\n"
          ]
        }
      ]
    },
    {
      "cell_type": "code",
      "source": [
        "'# Feature Splitting #'\n",
        "df['Date and Time']=pd.to_datetime(df['Date and Time'])\n",
        "df['Date']=df['Date and Time'].dt.date\n",
        "print(df[['candy variety','Date']])"
      ],
      "metadata": {
        "colab": {
          "base_uri": "https://localhost:8080/"
        },
        "id": "tf7Po34NST2H",
        "outputId": "c26721f3-2aed-4d66-9411-7bf4b4613ecc"
      },
      "execution_count": 22,
      "outputs": [
        {
          "output_type": "stream",
          "name": "stdout",
          "text": [
            "      candy variety        Date\n",
            "0  chocolate hearts  2020-02-09\n",
            "1        sour jelly  2020-10-24\n",
            "2       candy canes  2020-12-18\n",
            "3        sour jelly  2020-10-25\n",
            "4       fruit drops  2020-10-18\n",
            "5        sour jelly  2020-10-22\n"
          ]
        }
      ]
    },
    {
      "cell_type": "code",
      "source": [],
      "metadata": {
        "id": "93WIDGMgSbwG"
      },
      "execution_count": null,
      "outputs": []
    }
  ]
}