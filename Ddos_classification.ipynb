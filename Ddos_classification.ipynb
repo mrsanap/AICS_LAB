{
  "nbformat": 4,
  "nbformat_minor": 0,
  "metadata": {
    "colab": {
      "provenance": [],
      "authorship_tag": "ABX9TyOPDBh54JRynujA62NX34U7",
      "include_colab_link": true
    },
    "kernelspec": {
      "name": "python3",
      "display_name": "Python 3"
    },
    "language_info": {
      "name": "python"
    }
  },
  "cells": [
    {
      "cell_type": "markdown",
      "metadata": {
        "id": "view-in-github",
        "colab_type": "text"
      },
      "source": [
        "<a href=\"https://colab.research.google.com/github/mrsanap/AICS_LAB/blob/main/Ddos_classification.ipynb\" target=\"_parent\"><img src=\"https://colab.research.google.com/assets/colab-badge.svg\" alt=\"Open In Colab\"/></a>"
      ]
    },
    {
      "cell_type": "markdown",
      "source": [
        "Classify DDos"
      ],
      "metadata": {
        "id": "lssytsMxSded"
      }
    },
    {
      "cell_type": "code",
      "source": [
        "#import required libraries\n",
        "import pandas as pd\n",
        "import matplotlib.pyplot as plt\n",
        "from matplotlib.pyplot import figure\n",
        "import seaborn as sns"
      ],
      "metadata": {
        "id": "ZxAtkn8eRM91"
      },
      "execution_count": 2,
      "outputs": []
    },
    {
      "cell_type": "code",
      "source": [
        "\n",
        "#Read dataset\n",
        "data = pd.read_csv('dataset_ddos.csv')"
      ],
      "metadata": {
        "id": "TGIx06_dSguZ"
      },
      "execution_count": 3,
      "outputs": []
    },
    {
      "cell_type": "code",
      "source": [
        "\n",
        "#check the dataset\n",
        "data.head()"
      ],
      "metadata": {
        "colab": {
          "base_uri": "https://localhost:8080/",
          "height": 299
        },
        "id": "gkKjDQxlSi7Y",
        "outputId": "b5b086a0-c5cb-4157-f6d3-bba240718e7b"
      },
      "execution_count": 4,
      "outputs": [
        {
          "output_type": "execute_result",
          "data": {
            "text/plain": [
              "      dt  switch       src       dst  pktcount  bytecount  dur   dur_nsec  \\\n",
              "0  11425       1  10.0.0.1  10.0.0.8     45304   48294064  100  716000000   \n",
              "1  11605       1  10.0.0.1  10.0.0.8    126395  134737070  280  734000000   \n",
              "2  11425       1  10.0.0.2  10.0.0.8     90333   96294978  200  744000000   \n",
              "3  11425       1  10.0.0.2  10.0.0.8     90333   96294978  200  744000000   \n",
              "4  11425       1  10.0.0.2  10.0.0.8     90333   96294978  200  744000000   \n",
              "\n",
              "        tot_dur  flows  ...  pktrate  Pairflow  Protocol  port_no  \\\n",
              "0  1.010000e+11    3.0  ...    451.0       0.0       UDP      3.0   \n",
              "1  2.810000e+11    2.0  ...    451.0       0.0       UDP      4.0   \n",
              "2  2.010000e+11    3.0  ...    451.0       0.0       UDP      1.0   \n",
              "3  2.010000e+11    3.0  ...    451.0       0.0       UDP      2.0   \n",
              "4  2.010000e+11    3.0  ...    451.0       0.0       UDP      3.0   \n",
              "\n",
              "      tx_bytes rx_bytes  tx_kbps  rx_kbps  tot_kbps  label  \n",
              "0  143928631.0   3917.0      0.0      0.0       0.0    0.0  \n",
              "1       3842.0   3520.0      0.0      0.0       0.0    0.0  \n",
              "2       3795.0   1242.0      0.0      0.0       0.0    0.0  \n",
              "3       3688.0   1492.0      0.0      0.0       0.0    0.0  \n",
              "4       3413.0   3665.0      0.0      0.0       0.0    0.0  \n",
              "\n",
              "[5 rows x 23 columns]"
            ],
            "text/html": [
              "\n",
              "  <div id=\"df-b946ef03-2fd8-4ce8-93d9-52ec9924b584\">\n",
              "    <div class=\"colab-df-container\">\n",
              "      <div>\n",
              "<style scoped>\n",
              "    .dataframe tbody tr th:only-of-type {\n",
              "        vertical-align: middle;\n",
              "    }\n",
              "\n",
              "    .dataframe tbody tr th {\n",
              "        vertical-align: top;\n",
              "    }\n",
              "\n",
              "    .dataframe thead th {\n",
              "        text-align: right;\n",
              "    }\n",
              "</style>\n",
              "<table border=\"1\" class=\"dataframe\">\n",
              "  <thead>\n",
              "    <tr style=\"text-align: right;\">\n",
              "      <th></th>\n",
              "      <th>dt</th>\n",
              "      <th>switch</th>\n",
              "      <th>src</th>\n",
              "      <th>dst</th>\n",
              "      <th>pktcount</th>\n",
              "      <th>bytecount</th>\n",
              "      <th>dur</th>\n",
              "      <th>dur_nsec</th>\n",
              "      <th>tot_dur</th>\n",
              "      <th>flows</th>\n",
              "      <th>...</th>\n",
              "      <th>pktrate</th>\n",
              "      <th>Pairflow</th>\n",
              "      <th>Protocol</th>\n",
              "      <th>port_no</th>\n",
              "      <th>tx_bytes</th>\n",
              "      <th>rx_bytes</th>\n",
              "      <th>tx_kbps</th>\n",
              "      <th>rx_kbps</th>\n",
              "      <th>tot_kbps</th>\n",
              "      <th>label</th>\n",
              "    </tr>\n",
              "  </thead>\n",
              "  <tbody>\n",
              "    <tr>\n",
              "      <th>0</th>\n",
              "      <td>11425</td>\n",
              "      <td>1</td>\n",
              "      <td>10.0.0.1</td>\n",
              "      <td>10.0.0.8</td>\n",
              "      <td>45304</td>\n",
              "      <td>48294064</td>\n",
              "      <td>100</td>\n",
              "      <td>716000000</td>\n",
              "      <td>1.010000e+11</td>\n",
              "      <td>3.0</td>\n",
              "      <td>...</td>\n",
              "      <td>451.0</td>\n",
              "      <td>0.0</td>\n",
              "      <td>UDP</td>\n",
              "      <td>3.0</td>\n",
              "      <td>143928631.0</td>\n",
              "      <td>3917.0</td>\n",
              "      <td>0.0</td>\n",
              "      <td>0.0</td>\n",
              "      <td>0.0</td>\n",
              "      <td>0.0</td>\n",
              "    </tr>\n",
              "    <tr>\n",
              "      <th>1</th>\n",
              "      <td>11605</td>\n",
              "      <td>1</td>\n",
              "      <td>10.0.0.1</td>\n",
              "      <td>10.0.0.8</td>\n",
              "      <td>126395</td>\n",
              "      <td>134737070</td>\n",
              "      <td>280</td>\n",
              "      <td>734000000</td>\n",
              "      <td>2.810000e+11</td>\n",
              "      <td>2.0</td>\n",
              "      <td>...</td>\n",
              "      <td>451.0</td>\n",
              "      <td>0.0</td>\n",
              "      <td>UDP</td>\n",
              "      <td>4.0</td>\n",
              "      <td>3842.0</td>\n",
              "      <td>3520.0</td>\n",
              "      <td>0.0</td>\n",
              "      <td>0.0</td>\n",
              "      <td>0.0</td>\n",
              "      <td>0.0</td>\n",
              "    </tr>\n",
              "    <tr>\n",
              "      <th>2</th>\n",
              "      <td>11425</td>\n",
              "      <td>1</td>\n",
              "      <td>10.0.0.2</td>\n",
              "      <td>10.0.0.8</td>\n",
              "      <td>90333</td>\n",
              "      <td>96294978</td>\n",
              "      <td>200</td>\n",
              "      <td>744000000</td>\n",
              "      <td>2.010000e+11</td>\n",
              "      <td>3.0</td>\n",
              "      <td>...</td>\n",
              "      <td>451.0</td>\n",
              "      <td>0.0</td>\n",
              "      <td>UDP</td>\n",
              "      <td>1.0</td>\n",
              "      <td>3795.0</td>\n",
              "      <td>1242.0</td>\n",
              "      <td>0.0</td>\n",
              "      <td>0.0</td>\n",
              "      <td>0.0</td>\n",
              "      <td>0.0</td>\n",
              "    </tr>\n",
              "    <tr>\n",
              "      <th>3</th>\n",
              "      <td>11425</td>\n",
              "      <td>1</td>\n",
              "      <td>10.0.0.2</td>\n",
              "      <td>10.0.0.8</td>\n",
              "      <td>90333</td>\n",
              "      <td>96294978</td>\n",
              "      <td>200</td>\n",
              "      <td>744000000</td>\n",
              "      <td>2.010000e+11</td>\n",
              "      <td>3.0</td>\n",
              "      <td>...</td>\n",
              "      <td>451.0</td>\n",
              "      <td>0.0</td>\n",
              "      <td>UDP</td>\n",
              "      <td>2.0</td>\n",
              "      <td>3688.0</td>\n",
              "      <td>1492.0</td>\n",
              "      <td>0.0</td>\n",
              "      <td>0.0</td>\n",
              "      <td>0.0</td>\n",
              "      <td>0.0</td>\n",
              "    </tr>\n",
              "    <tr>\n",
              "      <th>4</th>\n",
              "      <td>11425</td>\n",
              "      <td>1</td>\n",
              "      <td>10.0.0.2</td>\n",
              "      <td>10.0.0.8</td>\n",
              "      <td>90333</td>\n",
              "      <td>96294978</td>\n",
              "      <td>200</td>\n",
              "      <td>744000000</td>\n",
              "      <td>2.010000e+11</td>\n",
              "      <td>3.0</td>\n",
              "      <td>...</td>\n",
              "      <td>451.0</td>\n",
              "      <td>0.0</td>\n",
              "      <td>UDP</td>\n",
              "      <td>3.0</td>\n",
              "      <td>3413.0</td>\n",
              "      <td>3665.0</td>\n",
              "      <td>0.0</td>\n",
              "      <td>0.0</td>\n",
              "      <td>0.0</td>\n",
              "      <td>0.0</td>\n",
              "    </tr>\n",
              "  </tbody>\n",
              "</table>\n",
              "<p>5 rows × 23 columns</p>\n",
              "</div>\n",
              "      <button class=\"colab-df-convert\" onclick=\"convertToInteractive('df-b946ef03-2fd8-4ce8-93d9-52ec9924b584')\"\n",
              "              title=\"Convert this dataframe to an interactive table.\"\n",
              "              style=\"display:none;\">\n",
              "        \n",
              "  <svg xmlns=\"http://www.w3.org/2000/svg\" height=\"24px\"viewBox=\"0 0 24 24\"\n",
              "       width=\"24px\">\n",
              "    <path d=\"M0 0h24v24H0V0z\" fill=\"none\"/>\n",
              "    <path d=\"M18.56 5.44l.94 2.06.94-2.06 2.06-.94-2.06-.94-.94-2.06-.94 2.06-2.06.94zm-11 1L8.5 8.5l.94-2.06 2.06-.94-2.06-.94L8.5 2.5l-.94 2.06-2.06.94zm10 10l.94 2.06.94-2.06 2.06-.94-2.06-.94-.94-2.06-.94 2.06-2.06.94z\"/><path d=\"M17.41 7.96l-1.37-1.37c-.4-.4-.92-.59-1.43-.59-.52 0-1.04.2-1.43.59L10.3 9.45l-7.72 7.72c-.78.78-.78 2.05 0 2.83L4 21.41c.39.39.9.59 1.41.59.51 0 1.02-.2 1.41-.59l7.78-7.78 2.81-2.81c.8-.78.8-2.07 0-2.86zM5.41 20L4 18.59l7.72-7.72 1.47 1.35L5.41 20z\"/>\n",
              "  </svg>\n",
              "      </button>\n",
              "      \n",
              "  <style>\n",
              "    .colab-df-container {\n",
              "      display:flex;\n",
              "      flex-wrap:wrap;\n",
              "      gap: 12px;\n",
              "    }\n",
              "\n",
              "    .colab-df-convert {\n",
              "      background-color: #E8F0FE;\n",
              "      border: none;\n",
              "      border-radius: 50%;\n",
              "      cursor: pointer;\n",
              "      display: none;\n",
              "      fill: #1967D2;\n",
              "      height: 32px;\n",
              "      padding: 0 0 0 0;\n",
              "      width: 32px;\n",
              "    }\n",
              "\n",
              "    .colab-df-convert:hover {\n",
              "      background-color: #E2EBFA;\n",
              "      box-shadow: 0px 1px 2px rgba(60, 64, 67, 0.3), 0px 1px 3px 1px rgba(60, 64, 67, 0.15);\n",
              "      fill: #174EA6;\n",
              "    }\n",
              "\n",
              "    [theme=dark] .colab-df-convert {\n",
              "      background-color: #3B4455;\n",
              "      fill: #D2E3FC;\n",
              "    }\n",
              "\n",
              "    [theme=dark] .colab-df-convert:hover {\n",
              "      background-color: #434B5C;\n",
              "      box-shadow: 0px 1px 3px 1px rgba(0, 0, 0, 0.15);\n",
              "      filter: drop-shadow(0px 1px 2px rgba(0, 0, 0, 0.3));\n",
              "      fill: #FFFFFF;\n",
              "    }\n",
              "  </style>\n",
              "\n",
              "      <script>\n",
              "        const buttonEl =\n",
              "          document.querySelector('#df-b946ef03-2fd8-4ce8-93d9-52ec9924b584 button.colab-df-convert');\n",
              "        buttonEl.style.display =\n",
              "          google.colab.kernel.accessAllowed ? 'block' : 'none';\n",
              "\n",
              "        async function convertToInteractive(key) {\n",
              "          const element = document.querySelector('#df-b946ef03-2fd8-4ce8-93d9-52ec9924b584');\n",
              "          const dataTable =\n",
              "            await google.colab.kernel.invokeFunction('convertToInteractive',\n",
              "                                                     [key], {});\n",
              "          if (!dataTable) return;\n",
              "\n",
              "          const docLinkHtml = 'Like what you see? Visit the ' +\n",
              "            '<a target=\"_blank\" href=https://colab.research.google.com/notebooks/data_table.ipynb>data table notebook</a>'\n",
              "            + ' to learn more about interactive tables.';\n",
              "          element.innerHTML = '';\n",
              "          dataTable['output_type'] = 'display_data';\n",
              "          await google.colab.output.renderOutput(dataTable, element);\n",
              "          const docLink = document.createElement('div');\n",
              "          docLink.innerHTML = docLinkHtml;\n",
              "          element.appendChild(docLink);\n",
              "        }\n",
              "      </script>\n",
              "    </div>\n",
              "  </div>\n",
              "  "
            ]
          },
          "metadata": {},
          "execution_count": 4
        }
      ]
    },
    {
      "cell_type": "code",
      "source": [
        "\n",
        "#check the shape of the dataset\n",
        "data.shape"
      ],
      "metadata": {
        "colab": {
          "base_uri": "https://localhost:8080/"
        },
        "id": "FOFFuRH4Slij",
        "outputId": "ad3813ef-1883-4b40-c199-dc8acf5b2540"
      },
      "execution_count": 5,
      "outputs": [
        {
          "output_type": "execute_result",
          "data": {
            "text/plain": [
              "(26057, 23)"
            ]
          },
          "metadata": {},
          "execution_count": 5
        }
      ]
    },
    {
      "cell_type": "code",
      "source": [
        "\n",
        "#check the information of the data\n",
        "data.info()\n",
        "     "
      ],
      "metadata": {
        "colab": {
          "base_uri": "https://localhost:8080/"
        },
        "id": "TOvP15eySo5X",
        "outputId": "ba704f85-924a-4a28-c818-515c12ff1dae"
      },
      "execution_count": 6,
      "outputs": [
        {
          "output_type": "stream",
          "name": "stdout",
          "text": [
            "<class 'pandas.core.frame.DataFrame'>\n",
            "RangeIndex: 26057 entries, 0 to 26056\n",
            "Data columns (total 23 columns):\n",
            " #   Column       Non-Null Count  Dtype  \n",
            "---  ------       --------------  -----  \n",
            " 0   dt           26057 non-null  int64  \n",
            " 1   switch       26057 non-null  int64  \n",
            " 2   src          26057 non-null  object \n",
            " 3   dst          26057 non-null  object \n",
            " 4   pktcount     26057 non-null  int64  \n",
            " 5   bytecount    26057 non-null  int64  \n",
            " 6   dur          26057 non-null  int64  \n",
            " 7   dur_nsec     26057 non-null  int64  \n",
            " 8   tot_dur      26056 non-null  float64\n",
            " 9   flows        26056 non-null  float64\n",
            " 10  packetins    26056 non-null  float64\n",
            " 11  pktperflow   26056 non-null  float64\n",
            " 12  byteperflow  26056 non-null  float64\n",
            " 13  pktrate      26056 non-null  float64\n",
            " 14  Pairflow     26056 non-null  float64\n",
            " 15  Protocol     26056 non-null  object \n",
            " 16  port_no      26056 non-null  float64\n",
            " 17  tx_bytes     26056 non-null  float64\n",
            " 18  rx_bytes     26056 non-null  float64\n",
            " 19  tx_kbps      26056 non-null  float64\n",
            " 20  rx_kbps      25817 non-null  float64\n",
            " 21  tot_kbps     25817 non-null  float64\n",
            " 22  label        26056 non-null  float64\n",
            "dtypes: float64(14), int64(6), object(3)\n",
            "memory usage: 4.6+ MB\n"
          ]
        }
      ]
    },
    {
      "cell_type": "code",
      "source": [
        "#we see that the label contains boolean value: 0-bening, 1-maliciuous\n",
        "data.label.unique()"
      ],
      "metadata": {
        "colab": {
          "base_uri": "https://localhost:8080/"
        },
        "id": "Umgd3h2LSquR",
        "outputId": "3f890d7c-d207-4756-d91d-0cdee60b5d76"
      },
      "execution_count": 7,
      "outputs": [
        {
          "output_type": "execute_result",
          "data": {
            "text/plain": [
              "array([ 0.,  1., nan])"
            ]
          },
          "metadata": {},
          "execution_count": 7
        }
      ]
    },
    {
      "cell_type": "code",
      "source": [
        "#count the total value of 0 and 1\n",
        "data.label.value_counts()"
      ],
      "metadata": {
        "colab": {
          "base_uri": "https://localhost:8080/"
        },
        "id": "xgswI6P3Su9t",
        "outputId": "87a088bf-393f-45bc-c1e4-02c18b2014b0"
      },
      "execution_count": 8,
      "outputs": [
        {
          "output_type": "execute_result",
          "data": {
            "text/plain": [
              "1.0    13096\n",
              "0.0    12960\n",
              "Name: label, dtype: int64"
            ]
          },
          "metadata": {},
          "execution_count": 8
        }
      ]
    },
    {
      "cell_type": "code",
      "source": [
        "#bar plot for 0 and 1 using dictionary\n",
        "label_dict = dict(data.label.value_counts())\n",
        "label_dict"
      ],
      "metadata": {
        "colab": {
          "base_uri": "https://localhost:8080/"
        },
        "id": "b3ZV5ZbrSxFT",
        "outputId": "9f7d508c-011c-4db0-e6cd-9854e9fffac9"
      },
      "execution_count": 9,
      "outputs": [
        {
          "output_type": "execute_result",
          "data": {
            "text/plain": [
              "{1.0: 13096, 0.0: 12960}"
            ]
          },
          "metadata": {},
          "execution_count": 9
        }
      ]
    },
    {
      "cell_type": "code",
      "source": [
        "labels = ['Malicious', 'Benign']\n",
        "sizes = [dict(data.label.value_counts())[0], dict(data.label.value_counts())[1]]\n",
        "plt.figure(figsize = (12, 8))\n",
        "plt.pie(sizes, labels=labels, autopct='%1.1f%%', shadow=True, startangle=90)\n",
        "plt.legend([\"Malicious\", \"Benign\"])\n",
        "plt.title('The percentage of Benign and Malicious Requests in dataset')\n",
        "plt.show()"
      ],
      "metadata": {
        "colab": {
          "base_uri": "https://localhost:8080/",
          "height": 631
        },
        "id": "U1JGig3KS0Cb",
        "outputId": "44f597c0-0103-48fe-c4d9-ea4d1c4d1436"
      },
      "execution_count": 10,
      "outputs": [
        {
          "output_type": "display_data",
          "data": {
            "text/plain": [
              "<Figure size 1200x800 with 1 Axes>"
            ],
            "image/png": "[encoded data removed]"
          },
          "metadata": {}
        }
      ]
    },
    {
      "cell_type": "code",
      "source": [
        "#use decribe function \n",
        "data.describe()"
      ],
      "metadata": {
        "colab": {
          "base_uri": "https://localhost:8080/",
          "height": 364
        },
        "id": "r2DzyUUVS20J",
        "outputId": "59eb08e9-06f9-4cec-f7a0-fea47b4c371a"
      },
      "execution_count": 11,
      "outputs": [
        {
          "output_type": "execute_result",
          "data": {
            "text/plain": [
              "                 dt        switch       pktcount     bytecount           dur  \\\n",
              "count  26057.000000  26057.000000   26057.000000  2.605700e+04  26057.000000   \n",
              "mean    8897.108032      3.189738   72538.928042  7.661972e+07    194.414438   \n",
              "std     3505.587089      1.253517   40478.561673  4.278989e+07    119.958343   \n",
              "min     2488.000000      1.000000     169.000000  1.760980e+05      0.000000   \n",
              "25%     3999.000000      2.000000   36282.000000  3.861478e+07     95.000000   \n",
              "50%    10116.000000      3.000000   73469.000000  7.817937e+07    190.000000   \n",
              "75%    11455.000000      4.000000  108343.000000  1.145502e+08    282.000000   \n",
              "max    12265.000000      6.000000  135036.000000  1.439484e+08    477.000000   \n",
              "\n",
              "           dur_nsec       tot_dur         flows     packetins     pktperflow  \\\n",
              "count  2.605700e+04  2.605600e+04  26056.000000  26056.000000   26056.000000   \n",
              "mean   5.261768e+08  1.949093e+11      3.703869   2816.076758   10066.716073   \n",
              "std    2.429246e+08  1.199544e+11      1.495815   2125.104462    5792.638175   \n",
              "min    6.720000e+02  1.180000e+08      2.000000    219.000000 -128767.000000   \n",
              "25%    3.340000e+08  9.567100e+10      3.000000   1931.000000    8621.000000   \n",
              "50%    4.870000e+08  1.910000e+11      3.000000   1943.000000    9741.000000   \n",
              "75%    7.440000e+08  2.830000e+11      5.000000   2242.000000   13528.000000   \n",
              "max    9.930000e+08  4.780000e+11      8.000000   8803.000000   13685.000000   \n",
              "\n",
              "        byteperflow       pktrate  Pairflow       port_no      tx_bytes  \\\n",
              "count  2.605600e+04  26056.000000   26056.0  26056.000000  2.605600e+04   \n",
              "mean   1.065375e+07    335.116019       0.0      2.325107  5.885088e+07   \n",
              "std    6.193706e+06    193.040866       0.0      1.070549  1.593148e+08   \n",
              "min   -1.372656e+08  -4293.000000       0.0      1.000000  2.668000e+03   \n",
              "25%    8.983082e+06    287.000000       0.0      1.000000  3.582000e+03   \n",
              "50%    1.015012e+07    324.000000       0.0      2.000000  3.866000e+03   \n",
              "75%    1.442085e+07    450.000000       0.0      3.000000  4.779000e+03   \n",
              "max    1.458821e+07    456.000000       0.0      4.000000  1.269982e+09   \n",
              "\n",
              "           rx_bytes       tx_kbps       rx_kbps      tot_kbps         label  \n",
              "count  2.605600e+04  26056.000000  25817.000000  25817.000000  26056.000000  \n",
              "mean   5.886541e+07    998.638548   1009.254096   2017.137506      0.502610  \n",
              "std    1.269618e+08   2847.070872   2296.053889   3377.706377      0.500003  \n",
              "min    8.560000e+02      0.000000      0.000000      0.000000      0.000000  \n",
              "25%    1.472000e+03      0.000000      0.000000      0.000000      0.000000  \n",
              "50%    3.572000e+03      0.000000      0.000000      0.000000      1.000000  \n",
              "75%    5.084204e+07      0.000000      0.000000   3837.000000      1.000000  \n",
              "max    9.905962e+08  20580.000000  16577.000000  20580.000000      1.000000  "
            ],
            "text/html": [
              "\n",
              "  <div id=\"df-e911dcfc-fddf-4525-96f1-f69193ae076e\">\n",
              "    <div class=\"colab-df-container\">\n",
              "      <div>\n",
              "<style scoped>\n",
              "    .dataframe tbody tr th:only-of-type {\n",
              "        vertical-align: middle;\n",
              "    }\n",
              "\n",
              "    .dataframe tbody tr th {\n",
              "        vertical-align: top;\n",
              "    }\n",
              "\n",
              "    .dataframe thead th {\n",
              "        text-align: right;\n",
              "    }\n",
              "</style>\n",
              "<table border=\"1\" class=\"dataframe\">\n",
              "  <thead>\n",
              "    <tr style=\"text-align: right;\">\n",
              "      <th></th>\n",
              "      <th>dt</th>\n",
              "      <th>switch</th>\n",
              "      <th>pktcount</th>\n",
              "      <th>bytecount</th>\n",
              "      <th>dur</th>\n",
              "      <th>dur_nsec</th>\n",
              "      <th>tot_dur</th>\n",
              "      <th>flows</th>\n",
              "      <th>packetins</th>\n",
              "      <th>pktperflow</th>\n",
              "      <th>byteperflow</th>\n",
              "      <th>pktrate</th>\n",
              "      <th>Pairflow</th>\n",
              "      <th>port_no</th>\n",
              "      <th>tx_bytes</th>\n",
              "      <th>rx_bytes</th>\n",
              "      <th>tx_kbps</th>\n",
              "      <th>rx_kbps</th>\n",
              "      <th>tot_kbps</th>\n",
              "      <th>label</th>\n",
              "    </tr>\n",
              "  </thead>\n",
              "  <tbody>\n",
              "    <tr>\n",
              "      <th>count</th>\n",
              "      <td>26057.000000</td>\n",
              "      <td>26057.000000</td>\n",
              "      <td>26057.000000</td>\n",
              "      <td>2.605700e+04</td>\n",
              "      <td>26057.000000</td>\n",
              "      <td>2.605700e+04</td>\n",
              "      <td>2.605600e+04</td>\n",
              "      <td>26056.000000</td>\n",
              "      <td>26056.000000</td>\n",
              "      <td>26056.000000</td>\n",
              "      <td>2.605600e+04</td>\n",
              "      <td>26056.000000</td>\n",
              "      <td>26056.0</td>\n",
              "      <td>26056.000000</td>\n",
              "      <td>2.605600e+04</td>\n",
              "      <td>2.605600e+04</td>\n",
              "      <td>26056.000000</td>\n",
              "      <td>25817.000000</td>\n",
              "      <td>25817.000000</td>\n",
              "      <td>26056.000000</td>\n",
              "    </tr>\n",
              "    <tr>\n",
              "      <th>mean</th>\n",
              "      <td>8897.108032</td>\n",
              "      <td>3.189738</td>\n",
              "      <td>72538.928042</td>\n",
              "      <td>7.661972e+07</td>\n",
              "      <td>194.414438</td>\n",
              "      <td>5.261768e+08</td>\n",
              "      <td>1.949093e+11</td>\n",
              "      <td>3.703869</td>\n",
              "      <td>2816.076758</td>\n",
              "      <td>10066.716073</td>\n",
              "      <td>1.065375e+07</td>\n",
              "      <td>335.116019</td>\n",
              "      <td>0.0</td>\n",
              "      <td>2.325107</td>\n",
              "      <td>5.885088e+07</td>\n",
              "      <td>5.886541e+07</td>\n",
              "      <td>998.638548</td>\n",
              "      <td>1009.254096</td>\n",
              "      <td>2017.137506</td>\n",
              "      <td>0.502610</td>\n",
              "    </tr>\n",
              "    <tr>\n",
              "      <th>std</th>\n",
              "      <td>3505.587089</td>\n",
              "      <td>1.253517</td>\n",
              "      <td>40478.561673</td>\n",
              "      <td>4.278989e+07</td>\n",
              "      <td>119.958343</td>\n",
              "      <td>2.429246e+08</td>\n",
              "      <td>1.199544e+11</td>\n",
              "      <td>1.495815</td>\n",
              "      <td>2125.104462</td>\n",
              "      <td>5792.638175</td>\n",
              "      <td>6.193706e+06</td>\n",
              "      <td>193.040866</td>\n",
              "      <td>0.0</td>\n",
              "      <td>1.070549</td>\n",
              "      <td>1.593148e+08</td>\n",
              "      <td>1.269618e+08</td>\n",
              "      <td>2847.070872</td>\n",
              "      <td>2296.053889</td>\n",
              "      <td>3377.706377</td>\n",
              "      <td>0.500003</td>\n",
              "    </tr>\n",
              "    <tr>\n",
              "      <th>min</th>\n",
              "      <td>2488.000000</td>\n",
              "      <td>1.000000</td>\n",
              "      <td>169.000000</td>\n",
              "      <td>1.760980e+05</td>\n",
              "      <td>0.000000</td>\n",
              "      <td>6.720000e+02</td>\n",
              "      <td>1.180000e+08</td>\n",
              "      <td>2.000000</td>\n",
              "      <td>219.000000</td>\n",
              "      <td>-128767.000000</td>\n",
              "      <td>-1.372656e+08</td>\n",
              "      <td>-4293.000000</td>\n",
              "      <td>0.0</td>\n",
              "      <td>1.000000</td>\n",
              "      <td>2.668000e+03</td>\n",
              "      <td>8.560000e+02</td>\n",
              "      <td>0.000000</td>\n",
              "      <td>0.000000</td>\n",
              "      <td>0.000000</td>\n",
              "      <td>0.000000</td>\n",
              "    </tr>\n",
              "    <tr>\n",
              "      <th>25%</th>\n",
              "      <td>3999.000000</td>\n",
              "      <td>2.000000</td>\n",
              "      <td>36282.000000</td>\n",
              "      <td>3.861478e+07</td>\n",
              "      <td>95.000000</td>\n",
              "      <td>3.340000e+08</td>\n",
              "      <td>9.567100e+10</td>\n",
              "      <td>3.000000</td>\n",
              "      <td>1931.000000</td>\n",
              "      <td>8621.000000</td>\n",
              "      <td>8.983082e+06</td>\n",
              "      <td>287.000000</td>\n",
              "      <td>0.0</td>\n",
              "      <td>1.000000</td>\n",
              "      <td>3.582000e+03</td>\n",
              "      <td>1.472000e+03</td>\n",
              "      <td>0.000000</td>\n",
              "      <td>0.000000</td>\n",
              "      <td>0.000000</td>\n",
              "      <td>0.000000</td>\n",
              "    </tr>\n",
              "    <tr>\n",
              "      <th>50%</th>\n",
              "      <td>10116.000000</td>\n",
              "      <td>3.000000</td>\n",
              "      <td>73469.000000</td>\n",
              "      <td>7.817937e+07</td>\n",
              "      <td>190.000000</td>\n",
              "      <td>4.870000e+08</td>\n",
              "      <td>1.910000e+11</td>\n",
              "      <td>3.000000</td>\n",
              "      <td>1943.000000</td>\n",
              "      <td>9741.000000</td>\n",
              "      <td>1.015012e+07</td>\n",
              "      <td>324.000000</td>\n",
              "      <td>0.0</td>\n",
              "      <td>2.000000</td>\n",
              "      <td>3.866000e+03</td>\n",
              "      <td>3.572000e+03</td>\n",
              "      <td>0.000000</td>\n",
              "      <td>0.000000</td>\n",
              "      <td>0.000000</td>\n",
              "      <td>1.000000</td>\n",
              "    </tr>\n",
              "    <tr>\n",
              "      <th>75%</th>\n",
              "      <td>11455.000000</td>\n",
              "      <td>4.000000</td>\n",
              "      <td>108343.000000</td>\n",
              "      <td>1.145502e+08</td>\n",
              "      <td>282.000000</td>\n",
              "      <td>7.440000e+08</td>\n",
              "      <td>2.830000e+11</td>\n",
              "      <td>5.000000</td>\n",
              "      <td>2242.000000</td>\n",
              "      <td>13528.000000</td>\n",
              "      <td>1.442085e+07</td>\n",
              "      <td>450.000000</td>\n",
              "      <td>0.0</td>\n",
              "      <td>3.000000</td>\n",
              "      <td>4.779000e+03</td>\n",
              "      <td>5.084204e+07</td>\n",
              "      <td>0.000000</td>\n",
              "      <td>0.000000</td>\n",
              "      <td>3837.000000</td>\n",
              "      <td>1.000000</td>\n",
              "    </tr>\n",
              "    <tr>\n",
              "      <th>max</th>\n",
              "      <td>12265.000000</td>\n",
              "      <td>6.000000</td>\n",
              "      <td>135036.000000</td>\n",
              "      <td>1.439484e+08</td>\n",
              "      <td>477.000000</td>\n",
              "      <td>9.930000e+08</td>\n",
              "      <td>4.780000e+11</td>\n",
              "      <td>8.000000</td>\n",
              "      <td>8803.000000</td>\n",
              "      <td>13685.000000</td>\n",
              "      <td>1.458821e+07</td>\n",
              "      <td>456.000000</td>\n",
              "      <td>0.0</td>\n",
              "      <td>4.000000</td>\n",
              "      <td>1.269982e+09</td>\n",
              "      <td>9.905962e+08</td>\n",
              "      <td>20580.000000</td>\n",
              "      <td>16577.000000</td>\n",
              "      <td>20580.000000</td>\n",
              "      <td>1.000000</td>\n",
              "    </tr>\n",
              "  </tbody>\n",
              "</table>\n",
              "</div>\n",
              "      <button class=\"colab-df-convert\" onclick=\"convertToInteractive('df-e911dcfc-fddf-4525-96f1-f69193ae076e')\"\n",
              "              title=\"Convert this dataframe to an interactive table.\"\n",
              "              style=\"display:none;\">\n",
              "        \n",
              "  <svg xmlns=\"http://www.w3.org/2000/svg\" height=\"24px\"viewBox=\"0 0 24 24\"\n",
              "       width=\"24px\">\n",
              "    <path d=\"M0 0h24v24H0V0z\" fill=\"none\"/>\n",
              "    <path d=\"M18.56 5.44l.94 2.06.94-2.06 2.06-.94-2.06-.94-.94-2.06-.94 2.06-2.06.94zm-11 1L8.5 8.5l.94-2.06 2.06-.94-2.06-.94L8.5 2.5l-.94 2.06-2.06.94zm10 10l.94 2.06.94-2.06 2.06-.94-2.06-.94-.94-2.06-.94 2.06-2.06.94z\"/><path d=\"M17.41 7.96l-1.37-1.37c-.4-.4-.92-.59-1.43-.59-.52 0-1.04.2-1.43.59L10.3 9.45l-7.72 7.72c-.78.78-.78 2.05 0 2.83L4 21.41c.39.39.9.59 1.41.59.51 0 1.02-.2 1.41-.59l7.78-7.78 2.81-2.81c.8-.78.8-2.07 0-2.86zM5.41 20L4 18.59l7.72-7.72 1.47 1.35L5.41 20z\"/>\n",
              "  </svg>\n",
              "      </button>\n",
              "      \n",
              "  <style>\n",
              "    .colab-df-container {\n",
              "      display:flex;\n",
              "      flex-wrap:wrap;\n",
              "      gap: 12px;\n",
              "    }\n",
              "\n",
              "    .colab-df-convert {\n",
              "      background-color: #E8F0FE;\n",
              "      border: none;\n",
              "      border-radius: 50%;\n",
              "      cursor: pointer;\n",
              "      display: none;\n",
              "      fill: #1967D2;\n",
              "      height: 32px;\n",
              "      padding: 0 0 0 0;\n",
              "      width: 32px;\n",
              "    }\n",
              "\n",
              "    .colab-df-convert:hover {\n",
              "      background-color: #E2EBFA;\n",
              "      box-shadow: 0px 1px 2px rgba(60, 64, 67, 0.3), 0px 1px 3px 1px rgba(60, 64, 67, 0.15);\n",
              "      fill: #174EA6;\n",
              "    }\n",
              "\n",
              "    [theme=dark] .colab-df-convert {\n",
              "      background-color: #3B4455;\n",
              "      fill: #D2E3FC;\n",
              "    }\n",
              "\n",
              "    [theme=dark] .colab-df-convert:hover {\n",
              "      background-color: #434B5C;\n",
              "      box-shadow: 0px 1px 3px 1px rgba(0, 0, 0, 0.15);\n",
              "      filter: drop-shadow(0px 1px 2px rgba(0, 0, 0, 0.3));\n",
              "      fill: #FFFFFF;\n",
              "    }\n",
              "  </style>\n",
              "\n",
              "      <script>\n",
              "        const buttonEl =\n",
              "          document.querySelector('#df-e911dcfc-fddf-4525-96f1-f69193ae076e button.colab-df-convert');\n",
              "        buttonEl.style.display =\n",
              "          google.colab.kernel.accessAllowed ? 'block' : 'none';\n",
              "\n",
              "        async function convertToInteractive(key) {\n",
              "          const element = document.querySelector('#df-e911dcfc-fddf-4525-96f1-f69193ae076e');\n",
              "          const dataTable =\n",
              "            await google.colab.kernel.invokeFunction('convertToInteractive',\n",
              "                                                     [key], {});\n",
              "          if (!dataTable) return;\n",
              "\n",
              "          const docLinkHtml = 'Like what you see? Visit the ' +\n",
              "            '<a target=\"_blank\" href=https://colab.research.google.com/notebooks/data_table.ipynb>data table notebook</a>'\n",
              "            + ' to learn more about interactive tables.';\n",
              "          element.innerHTML = '';\n",
              "          dataTable['output_type'] = 'display_data';\n",
              "          await google.colab.output.renderOutput(dataTable, element);\n",
              "          const docLink = document.createElement('div');\n",
              "          docLink.innerHTML = docLinkHtml;\n",
              "          element.appendChild(docLink);\n",
              "        }\n",
              "      </script>\n",
              "    </div>\n",
              "  </div>\n",
              "  "
            ]
          },
          "metadata": {},
          "execution_count": 11
        }
      ]
    },
    {
      "cell_type": "code",
      "source": [
        "#check the null values in data\n",
        "data.isnull().sum()"
      ],
      "metadata": {
        "colab": {
          "base_uri": "https://localhost:8080/"
        },
        "id": "qjHEaY_FS6ww",
        "outputId": "8ce0c14c-e189-4ed2-97d1-878f68b93b67"
      },
      "execution_count": 12,
      "outputs": [
        {
          "output_type": "execute_result",
          "data": {
            "text/plain": [
              "dt               0\n",
              "switch           0\n",
              "src              0\n",
              "dst              0\n",
              "pktcount         0\n",
              "bytecount        0\n",
              "dur              0\n",
              "dur_nsec         0\n",
              "tot_dur          1\n",
              "flows            1\n",
              "packetins        1\n",
              "pktperflow       1\n",
              "byteperflow      1\n",
              "pktrate          1\n",
              "Pairflow         1\n",
              "Protocol         1\n",
              "port_no          1\n",
              "tx_bytes         1\n",
              "rx_bytes         1\n",
              "tx_kbps          1\n",
              "rx_kbps        240\n",
              "tot_kbps       240\n",
              "label            1\n",
              "dtype: int64"
            ]
          },
          "metadata": {},
          "execution_count": 12
        }
      ]
    },
    {
      "cell_type": "code",
      "source": [
        "#Let's look at Object columns (Source Destination Protocol)\n",
        "\n",
        "figure(figsize=(12, 7), dpi=80)\n",
        "plt.barh(list(dict(data.src.value_counts()).keys()), dict(data.src.value_counts()).values(), color='lawngreen')\n",
        "\n",
        "for idx, val in enumerate(dict(data.src.value_counts()).values()):\n",
        "    plt.text(x = val, y = idx-0.2, s = str(val), color='r', size = 13)\n",
        "\n",
        "plt.xlabel('Number of Requests')\n",
        "plt.ylabel('IP addres of sender')\n",
        "plt.title('Number of all reqests')"
      ],
      "metadata": {
        "colab": {
          "base_uri": "https://localhost:8080/",
          "height": 408
        },
        "id": "xFhrjq-HS9YU",
        "outputId": "95a73003-1da0-47f0-bfda-889f011ad034"
      },
      "execution_count": 13,
      "outputs": [
        {
          "output_type": "execute_result",
          "data": {
            "text/plain": [
              "Text(0.5, 1.0, 'Number of all reqests')"
            ]
          },
          "metadata": {},
          "execution_count": 13
        },
        {
          "output_type": "display_data",
          "data": {
            "text/plain": [
              "<Figure size 960x560 with 1 Axes>"
            ],
            "image/png": "[encoded data removed]"
          },
          "metadata": {}
        }
      ]
    },
    {
      "cell_type": "code",
      "source": [
        "\n",
        "figure(figsize=(12, 7), dpi=80)\n",
        "plt.barh(list(dict(data[data.label == 1].src.value_counts()).keys()), dict(data[data.label == 1].src.value_counts()).values(), color='blue')\n",
        "\n",
        "for idx, val in enumerate(dict(data[data.label == 1].src.value_counts()).values()):\n",
        "    plt.text(x = val, y = idx-0.2, s = str(val), color='r', size = 13)\n",
        "\n",
        "plt.xlabel('Number of Requests')\n",
        "plt.ylabel('IP addres of sender')\n",
        "plt.title('Number of Attack requests')"
      ],
      "metadata": {
        "colab": {
          "base_uri": "https://localhost:8080/",
          "height": 408
        },
        "id": "CxiHzc2XTAcG",
        "outputId": "61f14177-ff58-4b06-ebae-082d5df4bc73"
      },
      "execution_count": 14,
      "outputs": [
        {
          "output_type": "execute_result",
          "data": {
            "text/plain": [
              "Text(0.5, 1.0, 'Number of Attack requests')"
            ]
          },
          "metadata": {},
          "execution_count": 14
        },
        {
          "output_type": "display_data",
          "data": {
            "text/plain": [
              "<Figure size 960x560 with 1 Axes>"
            ],
            "image/png": "[encoded data removed]"
          },
          "metadata": {}
        }
      ]
    },
    {
      "cell_type": "code",
      "source": [
        "figure(figsize=(12, 7), dpi=80)\n",
        "plt.barh(list(dict(data.src.value_counts()).keys()), dict(data.src.value_counts()).values(), color='lawngreen')\n",
        "plt.barh(list(dict(data[data.label == 1].src.value_counts()).keys()), dict(data[data.label == 1].src.value_counts()).values(), color='blue')\n",
        "\n",
        "for idx, val in enumerate(dict(data.src.value_counts()).values()):\n",
        "    plt.text(x = val, y = idx-0.2, s = str(val), color='r', size = 13)\n",
        "\n",
        "for idx, val in enumerate(dict(data[data.label == 1].src.value_counts()).values()):\n",
        "    plt.text(x = val, y = idx-0.2, s = str(val), color='w', size = 13)\n",
        "\n",
        "\n",
        "plt.xlabel('Number of Requests')\n",
        "plt.ylabel('IP addres of sender')\n",
        "plt.legend(['All','malicious'])\n",
        "plt.title('Number of requests from different IP adress')"
      ],
      "metadata": {
        "colab": {
          "base_uri": "https://localhost:8080/",
          "height": 408
        },
        "id": "iUJUlVsOTDlc",
        "outputId": "ca083041-f9cc-42c6-eba7-b4e72f022a47"
      },
      "execution_count": 15,
      "outputs": [
        {
          "output_type": "execute_result",
          "data": {
            "text/plain": [
              "Text(0.5, 1.0, 'Number of requests from different IP adress')"
            ]
          },
          "metadata": {},
          "execution_count": 15
        },
        {
          "output_type": "display_data",
          "data": {
            "text/plain": [
              "<Figure size 960x560 with 1 Axes>"
            ],
            "image/png": "[encoded data removed]"
          },
          "metadata": {}
        }
      ]
    },
    {
      "cell_type": "code",
      "source": [],
      "metadata": {
        "id": "-DQBlWCcTHUj"
      },
      "execution_count": null,
      "outputs": []
    }
  ]
}